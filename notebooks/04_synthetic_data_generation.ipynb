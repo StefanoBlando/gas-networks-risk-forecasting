{
 "cells": [
  {
   "cell_type": "markdown",
   "id": "ffa04c51",
   "metadata": {},
   "source": [
    "# 04 - Synthetic Data Generation\n",
    "\n",
    "This notebook demonstrates:\n",
    "- Preprocessing tabular features for generative modeling\n",
    "- Training a CTGAN model\n",
    "- Generating synthetic samples\n",
    "- Exporting an augmented dataset"
   ]
  },
  {
   "cell_type": "code",
   "execution_count": null,
   "id": "4a92e691",
   "metadata": {},
   "outputs": [],
   "source": [
    "# Load dataset\n",
    "import pandas as pd\n",
    "from sklearn.preprocessing import MinMaxScaler\n",
    "\n",
    "df = pd.read_csv('df.csv')\n",
    "\n",
    "# Define columns\n",
    "numerical_columns = ['AGE', 'avg_DIAMETRO', 'n_dislocazioni', 'avg_x', 'avg_y']\n",
    "categorical_columns = ['TIPO', 'materiale_1', 'materiale_2', 'materiale_3', 'materiale_4', 'MONTH', 'YEAR']\n",
    "\n",
    "# Filter only columns that exist\n",
    "numerical_columns = [col for col in numerical_columns if col in df.columns]\n",
    "categorical_columns = [col for col in categorical_columns if col in df.columns]\n",
    "\n",
    "# Normalize numerical features\n",
    "if numerical_columns:\n",
    "    df[numerical_columns] = MinMaxScaler().fit_transform(df[numerical_columns])"
   ]
  },
  {
   "cell_type": "code",
   "execution_count": null,
   "id": "feae6bb0",
   "metadata": {},
   "outputs": [],
   "source": [
    "# Train CTGAN\n",
    "from ctgan import CTGAN\n",
    "\n",
    "ctgan = CTGAN(\n",
    "    embedding_dim=128,\n",
    "    generator_dim=(256, 256),\n",
    "    discriminator_dim=(256, 256),\n",
    "    generator_lr=2e-4,\n",
    "    discriminator_lr=2e-4,\n",
    "    batch_size=500,\n",
    "    epochs=100,\n",
    "    verbose=True\n",
    ")\n",
    "columns_for_training = numerical_columns + categorical_columns\n",
    "ctgan.fit(df[columns_for_training], discrete_columns=categorical_columns)"
   ]
  },
  {
   "cell_type": "code",
   "execution_count": null,
   "id": "e6a1f2e5",
   "metadata": {},
   "outputs": [],
   "source": [
    "# Generate synthetic samples\n",
    "n_samples = 1200\n",
    "synthetic_data = ctgan.sample(n_samples)\n",
    "\n",
    "# Align columns with original\n",
    "for col in df.columns:\n",
    "    if col not in synthetic_data.columns:\n",
    "        synthetic_data[col] = 0\n",
    "synthetic_data = synthetic_data[df.columns]"
   ]
  },
  {
   "cell_type": "code",
   "execution_count": null,
   "id": "eb527423",
   "metadata": {},
   "outputs": [],
   "source": [
    "# Save to CSV\n",
    "synthetic_data.to_csv('augmented_gas_dispersion_data_ctgan.csv', index=False)\n",
    "print('Synthetic dataset saved.')"
   ]
  }
 ],
 "metadata": {},
 "nbformat": 4,
 "nbformat_minor": 5
}
