{
 "cells": [
  {
   "cell_type": "markdown",
   "id": "25ccfdcb",
   "metadata": {},
   "source": [
    "# 02 - Feature Engineering\n",
    "\n",
    "This notebook handles:\n",
    "- Data cleaning and formatting\n",
    "- Adding time and spatial features\n",
    "- Creating indicators and aggregation at the subsystem level (CODSISTEMA)"
   ]
  },
  {
   "cell_type": "code",
   "execution_count": null,
   "id": "8434ac9e",
   "metadata": {},
   "outputs": [],
   "source": [
    "# Preprocessing for risk dataset\n",
    "def rischio_df_preprocessing(rischio_df):\n",
    "    rischio_df.columns = ['DATA', 'IDSAP', 'risk_level']\n",
    "    rischio_df['YEAR'] = rischio_df['DATA'].apply(lambda x: str(x).split('-')[0])\n",
    "    rischio_df['MONTH'] = rischio_df['DATA'].apply(lambda x: str(x).split('-')[1])\n",
    "    rischio_df = rischio_df.drop(columns='DATA')\n",
    "    rischio_df = rischio_df.astype(float)\n",
    "    return rischio_df"
   ]
  },
  {
   "cell_type": "code",
   "execution_count": null,
   "id": "4e1555e2",
   "metadata": {},
   "outputs": [],
   "source": [
    "# Preprocessing for dispersion dataset\n",
    "def tratte_disp_df_preprocessing(tratte_disp_df):\n",
    "    tratte_disp_df['YEAR'] = tratte_disp_df['DATA'].apply(lambda x: x.split('-')[0])\n",
    "    tratte_disp_df['MONTH'] = tratte_disp_df['DATA'].apply(lambda x: x.split('-')[1])\n",
    "    tratte_disp_df = tratte_disp_df[['YEAR', 'MONTH', 'IDSAP']]\n",
    "    tratte_disp_df['dispersione'] = 1\n",
    "    tratte_disp_df = tratte_disp_df.groupby(['IDSAP', 'YEAR', 'MONTH']).sum()['dispersione'].to_frame().reset_index()\n",
    "    tratte_disp_df = tratte_disp_df.astype(float)\n",
    "    return tratte_disp_df"
   ]
  },
  {
   "cell_type": "code",
   "execution_count": null,
   "id": "3901cc1f",
   "metadata": {},
   "outputs": [],
   "source": [
    "# Extract coordinates from geometry\n",
    "import numpy as np\n",
    "def extract_coordinates(geometry):\n",
    "    if geometry.geom_type == 'MultiLineString':\n",
    "        coords = [list(line.coords) for line in geometry.geoms]\n",
    "    else:\n",
    "        coords = list(geometry.coords)\n",
    "    n = len(coords[0])\n",
    "    coords = np.squeeze(np.array(coords)).T.mean(axis=1)\n",
    "    return coords[0], coords[1], n"
   ]
  },
  {
   "cell_type": "code",
   "execution_count": null,
   "id": "0bbc8c64",
   "metadata": {},
   "outputs": [],
   "source": [
    "# Preprocess gas network data\n",
    "def tratte_gas_preprocessing(tratte_gas_df):\n",
    "    if 'YEAR' not in tratte_gas_df.columns:\n",
    "        tratte_gas_df['YEAR'] = 2023\n",
    "    \n",
    "    avg_x = []\n",
    "    avg_y = []\n",
    "    n_dislocazioni = []\n",
    "    for i in tratte_gas_df['geometry']:\n",
    "        x, y, n = extract_coordinates(i)\n",
    "        avg_x.append(x)\n",
    "        avg_y.append(y)\n",
    "        n_dislocazioni.append(n)\n",
    "    \n",
    "    tratte_gas_df['n_dislocazioni'] = n_dislocazioni\n",
    "    tratte_gas_df['avg_x'] = avg_y\n",
    "    tratte_gas_df['avg_y'] = [-i for i in avg_x]\n",
    "    tratte_gas_df['AGE'] = tratte_gas_df['YEAR'] - tratte_gas_df['ANNO_POSA']\n",
    "    tratte_gas_df = tratte_gas_df.drop(columns='geometry')\n",
    "    tratte_gas_df = tratte_gas_df.astype(float)\n",
    "    return tratte_gas_df"
   ]
  }
 ],
 "metadata": {},
 "nbformat": 4,
 "nbformat_minor": 5
}
